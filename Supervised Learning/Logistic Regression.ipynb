{
 "cells": [
  {
   "cell_type": "markdown",
   "id": "7f73ccb7",
   "metadata": {},
   "source": [
    "## Logistic Regression with Gradient Descent\n"
   ]
  },
  {
   "cell_type": "code",
   "execution_count": 1,
   "id": "445514dd",
   "metadata": {},
   "outputs": [],
   "source": [
    "# Import all the necessary libraries\n",
    "import numpy as np \n",
    "import pandas as pd \n",
    "import random\n",
    "\n",
    "import seaborn as sns\n",
    "import matplotlib.pyplot as plt\n",
    "from sklearn.model_selection import train_test_split\n",
    "import statistics\n",
    "import math\n",
    "# Set the Seaborn theme\n",
    "\n",
    "\n",
    "#sklearn imports\n",
    "from sklearn import preprocessing\n",
    "from sklearn.preprocessing import StandardScaler\n",
    "from sklearn.linear_model import LogisticRegression\n",
    "from sklearn.metrics import accuracy_score\n",
    "from sklearn.metrics import confusion_matrix\n",
    "from sklearn.metrics import classification_report #for nice result formatting\n",
    "from sklearn.metrics import roc_curve, roc_auc_score\n",
    "from sklearn.decomposition import PCA\n"
   ]
  },
  {
   "cell_type": "markdown",
   "id": "c5ebf2a7",
   "metadata": {},
   "source": [
    "The dataset is publically available on the Kaggle website, and it is from an ongoing cardiovascular study on residents of the town of Framingham, Massachusetts. The classification goal is to predict whether the patient has 10-year risk of future coronary heart disease (CHD).The dataset provides the patients’ information. It includes over 4,000 records and 15 attributes.\n",
    "Variables\n",
    "Each attribute is a potential risk factor. There are both demographic, behavioral and medical risk factors."
   ]
  },
  {
   "cell_type": "code",
   "execution_count": 2,
   "id": "8adc6e7a",
   "metadata": {},
   "outputs": [
    {
     "data": {
      "text/html": [
       "<div>\n",
       "<style scoped>\n",
       "    .dataframe tbody tr th:only-of-type {\n",
       "        vertical-align: middle;\n",
       "    }\n",
       "\n",
       "    .dataframe tbody tr th {\n",
       "        vertical-align: top;\n",
       "    }\n",
       "\n",
       "    .dataframe thead th {\n",
       "        text-align: right;\n",
       "    }\n",
       "</style>\n",
       "<table border=\"1\" class=\"dataframe\">\n",
       "  <thead>\n",
       "    <tr style=\"text-align: right;\">\n",
       "      <th></th>\n",
       "      <th>male</th>\n",
       "      <th>age</th>\n",
       "      <th>education</th>\n",
       "      <th>currentSmoker</th>\n",
       "      <th>cigsPerDay</th>\n",
       "      <th>BPMeds</th>\n",
       "      <th>prevalentStroke</th>\n",
       "      <th>prevalentHyp</th>\n",
       "      <th>diabetes</th>\n",
       "      <th>totChol</th>\n",
       "      <th>sysBP</th>\n",
       "      <th>diaBP</th>\n",
       "      <th>BMI</th>\n",
       "      <th>heartRate</th>\n",
       "      <th>glucose</th>\n",
       "      <th>TenYearCHD</th>\n",
       "    </tr>\n",
       "  </thead>\n",
       "  <tbody>\n",
       "    <tr>\n",
       "      <th>0</th>\n",
       "      <td>1</td>\n",
       "      <td>39</td>\n",
       "      <td>4.0</td>\n",
       "      <td>0</td>\n",
       "      <td>0.0</td>\n",
       "      <td>0.0</td>\n",
       "      <td>0</td>\n",
       "      <td>0</td>\n",
       "      <td>0</td>\n",
       "      <td>195.0</td>\n",
       "      <td>106.0</td>\n",
       "      <td>70.0</td>\n",
       "      <td>26.97</td>\n",
       "      <td>80.0</td>\n",
       "      <td>77.0</td>\n",
       "      <td>0</td>\n",
       "    </tr>\n",
       "    <tr>\n",
       "      <th>1</th>\n",
       "      <td>0</td>\n",
       "      <td>46</td>\n",
       "      <td>2.0</td>\n",
       "      <td>0</td>\n",
       "      <td>0.0</td>\n",
       "      <td>0.0</td>\n",
       "      <td>0</td>\n",
       "      <td>0</td>\n",
       "      <td>0</td>\n",
       "      <td>250.0</td>\n",
       "      <td>121.0</td>\n",
       "      <td>81.0</td>\n",
       "      <td>28.73</td>\n",
       "      <td>95.0</td>\n",
       "      <td>76.0</td>\n",
       "      <td>0</td>\n",
       "    </tr>\n",
       "    <tr>\n",
       "      <th>2</th>\n",
       "      <td>1</td>\n",
       "      <td>48</td>\n",
       "      <td>1.0</td>\n",
       "      <td>1</td>\n",
       "      <td>20.0</td>\n",
       "      <td>0.0</td>\n",
       "      <td>0</td>\n",
       "      <td>0</td>\n",
       "      <td>0</td>\n",
       "      <td>245.0</td>\n",
       "      <td>127.5</td>\n",
       "      <td>80.0</td>\n",
       "      <td>25.34</td>\n",
       "      <td>75.0</td>\n",
       "      <td>70.0</td>\n",
       "      <td>0</td>\n",
       "    </tr>\n",
       "    <tr>\n",
       "      <th>3</th>\n",
       "      <td>0</td>\n",
       "      <td>61</td>\n",
       "      <td>3.0</td>\n",
       "      <td>1</td>\n",
       "      <td>30.0</td>\n",
       "      <td>0.0</td>\n",
       "      <td>0</td>\n",
       "      <td>1</td>\n",
       "      <td>0</td>\n",
       "      <td>225.0</td>\n",
       "      <td>150.0</td>\n",
       "      <td>95.0</td>\n",
       "      <td>28.58</td>\n",
       "      <td>65.0</td>\n",
       "      <td>103.0</td>\n",
       "      <td>1</td>\n",
       "    </tr>\n",
       "    <tr>\n",
       "      <th>4</th>\n",
       "      <td>0</td>\n",
       "      <td>46</td>\n",
       "      <td>3.0</td>\n",
       "      <td>1</td>\n",
       "      <td>23.0</td>\n",
       "      <td>0.0</td>\n",
       "      <td>0</td>\n",
       "      <td>0</td>\n",
       "      <td>0</td>\n",
       "      <td>285.0</td>\n",
       "      <td>130.0</td>\n",
       "      <td>84.0</td>\n",
       "      <td>23.10</td>\n",
       "      <td>85.0</td>\n",
       "      <td>85.0</td>\n",
       "      <td>0</td>\n",
       "    </tr>\n",
       "  </tbody>\n",
       "</table>\n",
       "</div>"
      ],
      "text/plain": [
       "   male  age  education  currentSmoker  cigsPerDay  BPMeds  prevalentStroke  \\\n",
       "0     1   39        4.0              0         0.0     0.0                0   \n",
       "1     0   46        2.0              0         0.0     0.0                0   \n",
       "2     1   48        1.0              1        20.0     0.0                0   \n",
       "3     0   61        3.0              1        30.0     0.0                0   \n",
       "4     0   46        3.0              1        23.0     0.0                0   \n",
       "\n",
       "   prevalentHyp  diabetes  totChol  sysBP  diaBP    BMI  heartRate  glucose  \\\n",
       "0             0         0    195.0  106.0   70.0  26.97       80.0     77.0   \n",
       "1             0         0    250.0  121.0   81.0  28.73       95.0     76.0   \n",
       "2             0         0    245.0  127.5   80.0  25.34       75.0     70.0   \n",
       "3             1         0    225.0  150.0   95.0  28.58       65.0    103.0   \n",
       "4             0         0    285.0  130.0   84.0  23.10       85.0     85.0   \n",
       "\n",
       "   TenYearCHD  \n",
       "0           0  \n",
       "1           0  \n",
       "2           0  \n",
       "3           1  \n",
       "4           0  "
      ]
     },
     "execution_count": 2,
     "metadata": {},
     "output_type": "execute_result"
    }
   ],
   "source": [
    "#importing the HEART DISEASE PREDICTION dataset \n",
    "df = pd.read_csv(\"https://raw.githubusercontent.com/AmyrMa/INDE-577/main/data/framingham.csv\")\n",
    "df.head()"
   ]
  },
  {
   "cell_type": "code",
   "execution_count": 3,
   "id": "ae8ddffc",
   "metadata": {},
   "outputs": [
    {
     "data": {
      "text/plain": [
       "male                 0\n",
       "age                  0\n",
       "education          105\n",
       "currentSmoker        0\n",
       "cigsPerDay          29\n",
       "BPMeds              53\n",
       "prevalentStroke      0\n",
       "prevalentHyp         0\n",
       "diabetes             0\n",
       "totChol             50\n",
       "sysBP                0\n",
       "diaBP                0\n",
       "BMI                 19\n",
       "heartRate            1\n",
       "glucose            388\n",
       "TenYearCHD           0\n",
       "dtype: int64"
      ]
     },
     "execution_count": 3,
     "metadata": {},
     "output_type": "execute_result"
    }
   ],
   "source": [
    "df.isnull().sum()"
   ]
  },
  {
   "cell_type": "code",
   "execution_count": 4,
   "id": "ed7a810f",
   "metadata": {},
   "outputs": [],
   "source": [
    "df['glucose'].fillna(value=df['glucose'].mean(), inplace=True)\n",
    "df['cigsPerDay'].fillna(value=0.0, inplace=True)\n",
    "df['education'].fillna(value=df['education'].mean(), inplace=True)\n",
    "df['totChol'].fillna(value=df['totChol'].mean(), inplace=True)\n",
    "df['BPMeds'].fillna(value=df['BPMeds'].median(), inplace=True)\n",
    "df['BMI'].fillna(value=df['BMI'].median(), inplace=True)\n",
    "df['heartRate'].fillna(value= df['heartRate'].mean(), inplace=True)"
   ]
  },
  {
   "cell_type": "code",
   "execution_count": 5,
   "id": "b108b7ca",
   "metadata": {},
   "outputs": [
    {
     "name": "stdout",
     "output_type": "stream",
     "text": [
      "X_train.shape (3178, 15) y_train.shape (3178,)\n",
      "X_test.shape (1060, 15) y_test.shape (1060,)\n"
     ]
    }
   ],
   "source": [
    "y = df['TenYearCHD'].to_numpy()\n",
    "X = df.drop('TenYearCHD', axis = 1).to_numpy()\n",
    "sc = StandardScaler()\n",
    "X = sc.fit_transform(X)\n",
    "X_train, X_test, y_train, y_test = train_test_split(X, y, test_size = 0.25, random_state = 40)\n",
    "print(\"X_train.shape\", X_train.shape, \"y_train.shape\", y_train.shape)\n",
    "print(\"X_test.shape\", X_test.shape, \"y_test.shape\", y_test.shape)"
   ]
  },
  {
   "cell_type": "code",
   "execution_count": 6,
   "id": "9918eb72",
   "metadata": {},
   "outputs": [],
   "source": [
    "def sigmoid(z) :\n",
    "    return 1 / (1 + np.exp(-z))\n",
    "\n",
    "def compute_cost(X, y, w, b) :\n",
    "    m, n = X.shape\n",
    "    \n",
    "    loss = 0\n",
    "    for item in range(m):\n",
    "        z = 0\n",
    "        for feature in range(n):\n",
    "            z += X[item, feature] * w[feature]\n",
    "        z += b\n",
    "        f_wb = sigmoid(z)\n",
    "        loss += - y[item] * np.log(f_wb) - (1 - y[item]) * np.log(1 - f_wb)\n",
    "    return (loss / m)\n",
    "\n",
    "def predict(X, w, b) :\n",
    "    m, n = X.shape\n",
    "    p = np.zeros(m)    \n",
    "    for i in range(m) :\n",
    "        f_wb = sigmoid(np.dot(X[i], w) + b)\n",
    "        p[i] = 1 if f_wb > 0.38 else 0\n",
    "    return p\n"
   ]
  },
  {
   "cell_type": "code",
   "execution_count": 7,
   "id": "72435c39",
   "metadata": {},
   "outputs": [
    {
     "data": {
      "text/plain": [
       "(0.5837722104755255,\n",
       " array([-0.0295624 , -0.07551406,  0.02377325, -0.00262407, -0.02250449,\n",
       "        -0.02880174, -0.01710133, -0.05959201, -0.02980786, -0.02403729,\n",
       "        -0.06620869, -0.03781884, -0.01672846, -0.00679285, -0.03570121]))"
      ]
     },
     "execution_count": 7,
     "metadata": {},
     "output_type": "execute_result"
    }
   ],
   "source": [
    "def compute_gradient(X, y, w, b, lambda_ = None) :\n",
    "    m, n = X.shape\n",
    "    dj_dw, dj_db = np.zeros(n), 0.\n",
    "    \n",
    "    for eg in range(m) :   \n",
    "        \n",
    "        f_wb = sigmoid(np.dot(X[eg], w) + b)\n",
    "        err = f_wb - y[eg]\n",
    "        \n",
    "        for fr in range(n) :\n",
    "            dj_dw[fr] += err * X[eg, fr]\n",
    "        dj_db += err\n",
    "            \n",
    "    dj_dw /= m\n",
    "    dj_db /= m\n",
    "    return dj_db, dj_dw\n"
   ]
  },
  {
   "cell_type": "code",
   "execution_count": 8,
   "id": "5ee74914",
   "metadata": {},
   "outputs": [],
   "source": [
    "def gradient_descent(X, y, w_in, b_in, alpha, num_iters, cost_func, gradient_func, lambda_) :   \n",
    "         \n",
    "    for i in range(num_iters) :\n",
    "        \n",
    "        dj_db, dj_dw = gradient_func(X, y, w_in, b_in, lambda_)\n",
    "        w_in = w_in - alpha * dj_dw\n",
    "        b_in = b_in - alpha * dj_db\n",
    "        \n",
    "#         For 10 iterations equally spaced of total iters, print cost.\n",
    "        if i % math.ceil(num_iters / 10) == 0 or i == (num_iters - 1) :\n",
    "            print(f\"Iteration {i : 4}: Cost {cost_func(X, y, w_in, b_in) : 8.2f}\")\n",
    "            \n",
    "    return w_in, b_in   "
   ]
  },
  {
   "cell_type": "code",
   "execution_count": 9,
   "id": "33c25753",
   "metadata": {},
   "outputs": [
    {
     "name": "stdout",
     "output_type": "stream",
     "text": [
      "Iteration    0: Cost     0.56\n",
      "Iteration  100: Cost     0.38\n",
      "Iteration  200: Cost     0.37\n",
      "Iteration  300: Cost     0.37\n",
      "Iteration  400: Cost     0.37\n",
      "Iteration  500: Cost     0.37\n",
      "Iteration  600: Cost     0.37\n",
      "Iteration  700: Cost     0.37\n",
      "Iteration  800: Cost     0.37\n",
      "Iteration  900: Cost     0.37\n",
      "Iteration  999: Cost     0.37\n"
     ]
    }
   ],
   "source": [
    "initial_w = np.random.rand(X.shape[1])\n",
    "initial_b = -2\n",
    "\n",
    "num_iters = 1000\n",
    "alpha = 0.1\n",
    "lambda_ = 0\n",
    "\n",
    "w, b = gradient_descent(X_train, y_train, initial_w, initial_b, alpha, num_iters,compute_cost, compute_gradient, lambda_)"
   ]
  },
  {
   "cell_type": "code",
   "execution_count": 14,
   "id": "b7b6ee25",
   "metadata": {},
   "outputs": [
    {
     "name": "stdout",
     "output_type": "stream",
     "text": [
      "Accuracy: 0.8386792452830188\n",
      "\n",
      "Classification Report\n",
      "              precision    recall  f1-score   support\n",
      "\n",
      "           0       0.85      0.98      0.91       884\n",
      "           1       0.57      0.12      0.20       176\n",
      "\n",
      "    accuracy                           0.84      1060\n",
      "   macro avg       0.71      0.55      0.55      1060\n",
      "weighted avg       0.80      0.84      0.79      1060\n",
      "\n"
     ]
    }
   ],
   "source": [
    "y_pred = predict(X_test, w,b)\n",
    "print(\"Accuracy:\", accuracy_score(y_test,y_pred))\n",
    "model_report = classification_report(y_test, y_pred)\n",
    "print(\"\\nClassification Report\")\n",
    "print(model_report)"
   ]
  },
  {
   "cell_type": "markdown",
   "id": "931d2669",
   "metadata": {},
   "source": [
    "## Logistic Model by python package "
   ]
  },
  {
   "cell_type": "code",
   "execution_count": 15,
   "id": "2300ea78",
   "metadata": {},
   "outputs": [],
   "source": [
    "model = LogisticRegression()"
   ]
  },
  {
   "cell_type": "code",
   "execution_count": 16,
   "id": "fc71a2d2",
   "metadata": {},
   "outputs": [
    {
     "data": {
      "text/plain": [
       "LogisticRegression()"
      ]
     },
     "execution_count": 16,
     "metadata": {},
     "output_type": "execute_result"
    }
   ],
   "source": [
    "#Fit the model with data\n",
    "model.fit(X_train, y_train)"
   ]
  },
  {
   "cell_type": "code",
   "execution_count": 17,
   "id": "abb2a39f",
   "metadata": {},
   "outputs": [],
   "source": [
    "y_pred = model.predict(X_test)"
   ]
  },
  {
   "cell_type": "code",
   "execution_count": 18,
   "id": "36ee0f32",
   "metadata": {},
   "outputs": [
    {
     "name": "stdout",
     "output_type": "stream",
     "text": [
      "Accuracy: 0.8433962264150944\n"
     ]
    }
   ],
   "source": [
    "print(\"Accuracy:\", accuracy_score(y_test,y_pred))"
   ]
  },
  {
   "cell_type": "code",
   "execution_count": 19,
   "id": "ef984ec1",
   "metadata": {},
   "outputs": [
    {
     "name": "stdout",
     "output_type": "stream",
     "text": [
      "\n",
      "Classification Report\n",
      "              precision    recall  f1-score   support\n",
      "\n",
      "           0       0.84      1.00      0.91       884\n",
      "           1       0.92      0.06      0.12       176\n",
      "\n",
      "    accuracy                           0.84      1060\n",
      "   macro avg       0.88      0.53      0.52      1060\n",
      "weighted avg       0.85      0.84      0.78      1060\n",
      "\n"
     ]
    }
   ],
   "source": [
    "model_report = classification_report(y_test, y_pred)\n",
    "print(\"\\nClassification Report\")\n",
    "print(model_report)"
   ]
  },
  {
   "cell_type": "markdown",
   "id": "48d78d36",
   "metadata": {},
   "source": [
    "## Conclusion\n",
    "We see that our model has similar result and prediction accuracy as the python pacakge "
   ]
  },
  {
   "cell_type": "code",
   "execution_count": null,
   "id": "d39730a3",
   "metadata": {},
   "outputs": [],
   "source": []
  }
 ],
 "metadata": {
  "kernelspec": {
   "display_name": "Python 3 (ipykernel)",
   "language": "python",
   "name": "python3"
  },
  "language_info": {
   "codemirror_mode": {
    "name": "ipython",
    "version": 3
   },
   "file_extension": ".py",
   "mimetype": "text/x-python",
   "name": "python",
   "nbconvert_exporter": "python",
   "pygments_lexer": "ipython3",
   "version": "3.9.12"
  }
 },
 "nbformat": 4,
 "nbformat_minor": 5
}
