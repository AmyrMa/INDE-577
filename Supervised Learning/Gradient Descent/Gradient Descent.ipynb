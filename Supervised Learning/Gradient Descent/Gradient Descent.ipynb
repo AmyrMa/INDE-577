{
 "cells": [
  {
   "cell_type": "markdown",
   "id": "985629ca",
   "metadata": {},
   "source": [
    "# Gradient Descent"
   ]
  },
  {
   "cell_type": "markdown",
   "id": "13cf936b",
   "metadata": {},
   "source": [
    "Since our data has multiple features, then the gradient for our model at point p is defined as a vector of all partial derivatives.\n"
   ]
  },
  {
   "cell_type": "code",
   "execution_count": 1,
   "id": "4eb0ca24",
   "metadata": {},
   "outputs": [],
   "source": [
    "import matplotlib.pyplot as plt\n",
    "import pandas as pd\n",
    "import numpy as np\n",
    "import seaborn as sns\n",
    "from sklearn.model_selection import train_test_split\n",
    "from sklearn.tree import DecisionTreeClassifier\n",
    "from sklearn.tree import plot_tree\n",
    "from sklearn.tree import export_text\n",
    "from mlxtend.plotting import plot_decision_regions\n",
    "from sklearn import metrics\n",
    "from sklearn.metrics import classification_report\n",
    "from sklearn.preprocessing import StandardScaler\n",
    "from sklearn.pipeline import Pipeline\n",
    "from sklearn.model_selection import GridSearchCV\n",
    "from sklearn import decomposition\n",
    "from sklearn.metrics import roc_curve, roc_auc_score\n",
    "import random\n",
    "import math"
   ]
  },
  {
   "cell_type": "code",
   "execution_count": 2,
   "id": "8e4cfbcf",
   "metadata": {},
   "outputs": [],
   "source": [
    "df = pd.read_csv('https://raw.githubusercontent.com/AmyrMa/INDE-577/main/data/data.csv')\n",
    "df = df.drop(['id','Unnamed: 32'], axis = 1)\n",
    "df['diagnosis'] = np.where(df['diagnosis'] == 'M', 1, -1)\n",
    "y = np.array(df['diagnosis'])\n",
    "X = df.drop(['diagnosis'], axis = 1)\n",
    "sc = StandardScaler()\n",
    "X = sc.fit_transform(X)"
   ]
  },
  {
   "cell_type": "code",
   "execution_count": 3,
   "id": "7280d192",
   "metadata": {},
   "outputs": [],
   "source": [
    "# Create training and test sets\n",
    "X_train, X_test, y_train, y_test = train_test_split(\n",
    "    X, y, test_size = 0.25, random_state = 40)"
   ]
  },
  {
   "cell_type": "markdown",
   "id": "c75c0a54",
   "metadata": {},
   "source": [
    "$y = \\beta + \\theta X$ \\\n",
    "this is the function for gradient descent, next we will implement the function to calculate the beta and theta \n"
   ]
  },
  {
   "cell_type": "code",
   "execution_count": 4,
   "id": "4ea36492",
   "metadata": {},
   "outputs": [
    {
     "name": "stdout",
     "output_type": "stream",
     "text": [
      "Bias: 0.5242537914067388 Weights:  [0.63002669 0.78231461 0.03480327 0.07585951 0.85189393 0.67682128\n",
      " 0.07967443 0.6410996  0.53470117 0.79409415 0.62513032 0.68990476\n",
      " 0.47595592 0.38336673 0.81971996 0.94553131 0.52158149 0.3760673\n",
      " 0.72527265 0.13822093 0.10782304 0.69904969 0.55220947 0.31136686\n",
      " 0.24482814 0.83171952 0.59627623 0.4103345  0.73895863 0.87398559]\n"
     ]
    }
   ],
   "source": [
    "def initialize(dim):\n",
    "    b = random.random()\n",
    "    theta = np.random.rand(dim)\n",
    "    return b,theta\n",
    "b , theta = initialize(X.shape[1])\n",
    "print(\"Bias:\",b,'Weights: ',theta)"
   ]
  },
  {
   "cell_type": "code",
   "execution_count": 5,
   "id": "8285a088",
   "metadata": {},
   "outputs": [
    {
     "data": {
      "text/plain": [
       "array([  3.71826612,  -4.54364614, -12.53451023,  -0.93469517,\n",
       "        -1.50950021,   7.87339777,  -1.7399908 ,  -1.95832823,\n",
       "        -0.50977544,  -3.75728233])"
      ]
     },
     "execution_count": 5,
     "metadata": {},
     "output_type": "execute_result"
    }
   ],
   "source": [
    "def predict_Y(b,theta,X_train):\n",
    "    return b + np.dot(X_train,theta)\n",
    "y_pred = predict_Y(b,theta,X_train)\n",
    "y_pred[0:10]"
   ]
  },
  {
   "cell_type": "code",
   "execution_count": 6,
   "id": "65048a12",
   "metadata": {},
   "outputs": [
    {
     "data": {
      "text/plain": [
       "82.73516530066964"
      ]
     },
     "execution_count": 6,
     "metadata": {},
     "output_type": "execute_result"
    }
   ],
   "source": [
    "def get_cost(y_train,y_pred):\n",
    "    Y_resd=y_train-y_pred\n",
    "    return np.sum(np.dot(Y_resd.T,Y_resd))/len(y_train-Y_resd)\n",
    "Y_hat=predict_Y(b,theta,X_train)\n",
    "get_cost(y_train,y_pred)"
   ]
  },
  {
   "cell_type": "markdown",
   "id": "c86ee76a",
   "metadata": {},
   "source": [
    "We can see that our cost value is really high, and we want to reduce our cost value as much as possible in order to obtain a good model"
   ]
  },
  {
   "cell_type": "code",
   "execution_count": 7,
   "id": "7903d39a",
   "metadata": {},
   "outputs": [
    {
     "name": "stdout",
     "output_type": "stream",
     "text": [
      "After initialization -Bias:  0.5242537914067388 theta:  [0.63002669 0.78231461 0.03480327 0.07585951 0.85189393 0.67682128\n",
      " 0.07967443 0.6410996  0.53470117 0.79409415 0.62513032 0.68990476\n",
      " 0.47595592 0.38336673 0.81971996 0.94553131 0.52158149 0.3760673\n",
      " 0.72527265 0.13822093 0.10782304 0.69904969 0.55220947 0.31136686\n",
      " 0.24482814 0.83171952 0.59627623 0.4103345  0.73895863 0.87398559]\n",
      "After first update -Bias:  0.5090664444185378 theta:  [ 0.53933926  0.71358163 -0.06418048 -0.01806813  0.73076655  0.51251321\n",
      " -0.08475528  0.49085642  0.41249451  0.69775948  0.51248089  0.63857088\n",
      "  0.35959515  0.28292963  0.76423404  0.80911801  0.39802974  0.24925419\n",
      "  0.65173226  0.0382993   0.00895949  0.62758934  0.44474856  0.21246818\n",
      "  0.13939642  0.6937966   0.4509469   0.27001695  0.63796086  0.76317885]\n"
     ]
    },
    {
     "data": {
      "text/plain": [
       "82.73516530066964"
      ]
     },
     "execution_count": 7,
     "metadata": {},
     "output_type": "execute_result"
    }
   ],
   "source": [
    "def update_theta(x,y,y_hat,b_0,theta_o,learning_rate):\n",
    "    db=(np.sum(y_hat-y)*2)/len(y)\n",
    "    dw=(np.dot((y_hat-y),x)*2)/len(y)\n",
    "    b_1=b_0-learning_rate*db\n",
    "    theta_1=theta_o-learning_rate*dw\n",
    "    return b_1,theta_1\n",
    "print(\"After initialization -Bias: \",b,\"theta: \",theta)\n",
    "y_pred=predict_Y(b,theta,X_train)\n",
    "b,theta=update_theta(X_train,y_train,y_pred,b,theta,0.01)\n",
    "print(\"After first update -Bias: \",b,\"theta: \",theta)\n",
    "get_cost(y_train,y_pred)"
   ]
  },
  {
   "cell_type": "code",
   "execution_count": 8,
   "id": "0ccaa324",
   "metadata": {},
   "outputs": [
    {
     "name": "stdout",
     "output_type": "stream",
     "text": [
      "Final Estimate of b and theta :  -0.2216409758541156 [ 0.07899404 -0.01275424 -0.11121362  0.55615818  0.20599108  0.09908218\n",
      " -0.29763065 -0.19408131 -0.12656654 -0.12521267  0.32876616  0.09219651\n",
      " -0.04978364 -0.286427    0.08662362 -0.26345111 -0.10724566  0.27249545\n",
      " -0.04381254  0.07092773 -0.16231008  0.13008306 -0.07777435  0.31204546\n",
      " -0.00318821  0.27264787  0.44606429 -0.03666322  0.25570802 -0.11338018]\n"
     ]
    }
   ],
   "source": [
    "def run_gradient_descent(X, Y, alpha, num_iterations):\n",
    "    b, theta = initialize(X.shape[1])\n",
    "    iter_num = 0\n",
    "    gd_iterations_df = pd.DataFrame(columns = ['iteration','cost'])\n",
    "    result_idx = 0\n",
    "    for each_iter in range(num_iterations):\n",
    "        Y_hat = predict_Y(b,theta,X)\n",
    "        this_cost = get_cost(Y,Y_hat)\n",
    "        prev_b = b\n",
    "        prev_theta = theta\n",
    "        b,theta = update_theta(X,Y,Y_hat,prev_b,prev_theta,alpha)\n",
    "        if(iter_num%10==0):\n",
    "            gd_iterations_df.loc[result_idx]=[iter_num,this_cost]\n",
    "            result_idx = result_idx+1\n",
    "        iter_num +=1\n",
    "    print('Final Estimate of b and theta : ',b,theta)\n",
    "    return gd_iterations_df,b,theta\n",
    "gd_iterations_df,b,theta=run_gradient_descent(X_train,y_train,alpha=0.01,num_iterations=200)"
   ]
  },
  {
   "cell_type": "code",
   "execution_count": 9,
   "id": "3992ea16",
   "metadata": {},
   "outputs": [
    {
     "data": {
      "text/html": [
       "<div>\n",
       "<style scoped>\n",
       "    .dataframe tbody tr th:only-of-type {\n",
       "        vertical-align: middle;\n",
       "    }\n",
       "\n",
       "    .dataframe tbody tr th {\n",
       "        vertical-align: top;\n",
       "    }\n",
       "\n",
       "    .dataframe thead th {\n",
       "        text-align: right;\n",
       "    }\n",
       "</style>\n",
       "<table border=\"1\" class=\"dataframe\">\n",
       "  <thead>\n",
       "    <tr style=\"text-align: right;\">\n",
       "      <th></th>\n",
       "      <th>iteration</th>\n",
       "      <th>cost</th>\n",
       "    </tr>\n",
       "  </thead>\n",
       "  <tbody>\n",
       "    <tr>\n",
       "      <th>0</th>\n",
       "      <td>0.0</td>\n",
       "      <td>61.493606</td>\n",
       "    </tr>\n",
       "    <tr>\n",
       "      <th>1</th>\n",
       "      <td>10.0</td>\n",
       "      <td>2.570678</td>\n",
       "    </tr>\n",
       "    <tr>\n",
       "      <th>2</th>\n",
       "      <td>20.0</td>\n",
       "      <td>1.174785</td>\n",
       "    </tr>\n",
       "    <tr>\n",
       "      <th>3</th>\n",
       "      <td>30.0</td>\n",
       "      <td>0.769339</td>\n",
       "    </tr>\n",
       "    <tr>\n",
       "      <th>4</th>\n",
       "      <td>40.0</td>\n",
       "      <td>0.585351</td>\n",
       "    </tr>\n",
       "    <tr>\n",
       "      <th>5</th>\n",
       "      <td>50.0</td>\n",
       "      <td>0.490602</td>\n",
       "    </tr>\n",
       "    <tr>\n",
       "      <th>6</th>\n",
       "      <td>60.0</td>\n",
       "      <td>0.438210</td>\n",
       "    </tr>\n",
       "    <tr>\n",
       "      <th>7</th>\n",
       "      <td>70.0</td>\n",
       "      <td>0.407096</td>\n",
       "    </tr>\n",
       "    <tr>\n",
       "      <th>8</th>\n",
       "      <td>80.0</td>\n",
       "      <td>0.387096</td>\n",
       "    </tr>\n",
       "    <tr>\n",
       "      <th>9</th>\n",
       "      <td>90.0</td>\n",
       "      <td>0.373152</td>\n",
       "    </tr>\n",
       "    <tr>\n",
       "      <th>10</th>\n",
       "      <td>100.0</td>\n",
       "      <td>0.362683</td>\n",
       "    </tr>\n",
       "    <tr>\n",
       "      <th>11</th>\n",
       "      <td>110.0</td>\n",
       "      <td>0.354329</td>\n",
       "    </tr>\n",
       "    <tr>\n",
       "      <th>12</th>\n",
       "      <td>120.0</td>\n",
       "      <td>0.347354</td>\n",
       "    </tr>\n",
       "    <tr>\n",
       "      <th>13</th>\n",
       "      <td>130.0</td>\n",
       "      <td>0.341339</td>\n",
       "    </tr>\n",
       "    <tr>\n",
       "      <th>14</th>\n",
       "      <td>140.0</td>\n",
       "      <td>0.336033</td>\n",
       "    </tr>\n",
       "    <tr>\n",
       "      <th>15</th>\n",
       "      <td>150.0</td>\n",
       "      <td>0.331282</td>\n",
       "    </tr>\n",
       "    <tr>\n",
       "      <th>16</th>\n",
       "      <td>160.0</td>\n",
       "      <td>0.326980</td>\n",
       "    </tr>\n",
       "    <tr>\n",
       "      <th>17</th>\n",
       "      <td>170.0</td>\n",
       "      <td>0.323054</td>\n",
       "    </tr>\n",
       "    <tr>\n",
       "      <th>18</th>\n",
       "      <td>180.0</td>\n",
       "      <td>0.319450</td>\n",
       "    </tr>\n",
       "    <tr>\n",
       "      <th>19</th>\n",
       "      <td>190.0</td>\n",
       "      <td>0.316124</td>\n",
       "    </tr>\n",
       "  </tbody>\n",
       "</table>\n",
       "</div>"
      ],
      "text/plain": [
       "    iteration       cost\n",
       "0         0.0  61.493606\n",
       "1        10.0   2.570678\n",
       "2        20.0   1.174785\n",
       "3        30.0   0.769339\n",
       "4        40.0   0.585351\n",
       "5        50.0   0.490602\n",
       "6        60.0   0.438210\n",
       "7        70.0   0.407096\n",
       "8        80.0   0.387096\n",
       "9        90.0   0.373152\n",
       "10      100.0   0.362683\n",
       "11      110.0   0.354329\n",
       "12      120.0   0.347354\n",
       "13      130.0   0.341339\n",
       "14      140.0   0.336033\n",
       "15      150.0   0.331282\n",
       "16      160.0   0.326980\n",
       "17      170.0   0.323054\n",
       "18      180.0   0.319450\n",
       "19      190.0   0.316124"
      ]
     },
     "execution_count": 9,
     "metadata": {},
     "output_type": "execute_result"
    }
   ],
   "source": [
    "gd_iterations_df"
   ]
  },
  {
   "cell_type": "markdown",
   "id": "af5ba7f4",
   "metadata": {},
   "source": [
    "We see that the cost value droped significantly"
   ]
  },
  {
   "cell_type": "code",
   "execution_count": 10,
   "id": "f5e29c2f",
   "metadata": {},
   "outputs": [
    {
     "data": {
      "text/plain": [
       "Text(0, 0.5, 'Cost or MSE')"
      ]
     },
     "execution_count": 10,
     "metadata": {},
     "output_type": "execute_result"
    },
    {
     "data": {
      "image/png": "[encoded data removed]",
      "text/plain": [
       "<Figure size 432x288 with 1 Axes>"
      ]
     },
     "metadata": {
      "needs_background": "light"
     },
     "output_type": "display_data"
    }
   ],
   "source": [
    "%matplotlib inline\n",
    "plt.plot(gd_iterations_df['iteration'],gd_iterations_df['cost'])\n",
    "plt.xlabel('Number of iterations')\n",
    "plt.ylabel('Cost or MSE')"
   ]
  },
  {
   "cell_type": "code",
   "execution_count": 11,
   "id": "f7d0adee",
   "metadata": {},
   "outputs": [],
   "source": [
    "y_pred = predict_Y(b,theta,X_test)"
   ]
  },
  {
   "cell_type": "code",
   "execution_count": 15,
   "id": "ee64d8fd",
   "metadata": {},
   "outputs": [],
   "source": [
    "y_pred = np.where(y_pred < 0, -1 , 1)"
   ]
  },
  {
   "cell_type": "code",
   "execution_count": 17,
   "id": "c088b154",
   "metadata": {},
   "outputs": [
    {
     "name": "stdout",
     "output_type": "stream",
     "text": [
      "              precision    recall  f1-score   support\n",
      "\n",
      "          -1       0.99      0.98      0.98        99\n",
      "           1       0.96      0.98      0.97        44\n",
      "\n",
      "    accuracy                           0.98       143\n",
      "   macro avg       0.97      0.98      0.98       143\n",
      "weighted avg       0.98      0.98      0.98       143\n",
      "\n"
     ]
    }
   ],
   "source": [
    "report = classification_report(y_pred, y_test)\n",
    "print(report)"
   ]
  },
  {
   "cell_type": "markdown",
   "id": "33d2ffdb",
   "metadata": {},
   "source": [
    "Given our response value is binary result, we have encoded it as -1 and 1. The gradient descent is mainly used for regression, so I decide to make any prediction that is less than 0 to euqal to -1, and otherwise 1. we see that the prediction accuracy is 0.98 which is very high."
   ]
  },
  {
   "cell_type": "code",
   "execution_count": null,
   "id": "aec46eed",
   "metadata": {},
   "outputs": [],
   "source": []
  }
 ],
 "metadata": {
  "kernelspec": {
   "display_name": "Python 3 (ipykernel)",
   "language": "python",
   "name": "python3"
  },
  "language_info": {
   "codemirror_mode": {
    "name": "ipython",
    "version": 3
   },
   "file_extension": ".py",
   "mimetype": "text/x-python",
   "name": "python",
   "nbconvert_exporter": "python",
   "pygments_lexer": "ipython3",
   "version": "3.9.12"
  }
 },
 "nbformat": 4,
 "nbformat_minor": 5
}
