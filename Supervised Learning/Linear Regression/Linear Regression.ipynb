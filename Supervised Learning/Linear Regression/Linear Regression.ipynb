{
 "cells": [
  {
   "cell_type": "markdown",
   "id": "bd835f16",
   "metadata": {},
   "source": [
    "## Linear Regression\n",
    "For linear regression model, we still use breast cancer diagonosis dataset, even though the data set has only two output, the linear regression should still be a good model to predict the outcomes of the breast cancer."
   ]
  },
  {
   "cell_type": "code",
   "execution_count": 1,
   "id": "d94e5cc5",
   "metadata": {},
   "outputs": [],
   "source": [
    "# Import all the necessary libraries\n",
    "import numpy as np \n",
    "import pandas as pd \n",
    "import random\n",
    "\n",
    "import seaborn as sns\n",
    "import matplotlib.pyplot as plt\n",
    "from sklearn.model_selection import train_test_split\n",
    "import statistics\n",
    "from sklearn.metrics import accuracy_score\n",
    "from sklearn.metrics import classification_report\n",
    "# Set the Seaborn theme\n",
    "sns.set_theme()"
   ]
  },
  {
   "cell_type": "code",
   "execution_count": 2,
   "id": "8dab747e",
   "metadata": {},
   "outputs": [],
   "source": [
    "#importing the dataset as a dataframe\n",
    "df = pd.read_csv(\"https://raw.githubusercontent.com/AmyrMa/INDE-577/main/data/data.csv\")\n",
    "df = df.drop(['id','Unnamed: 32'], axis = 1)\n",
    "df['diagnosis'] = np.where(df.diagnosis.values == 'M', -1, 1)\n",
    "y = df['diagnosis']\n",
    "X = df.drop(['diagnosis'], axis=1).values"
   ]
  },
  {
   "cell_type": "code",
   "execution_count": 3,
   "id": "8dec600f",
   "metadata": {},
   "outputs": [],
   "source": [
    "X_train, X_test, y_train, y_test = train_test_split(X, y, test_size = 0.25, random_state = 40)"
   ]
  },
  {
   "cell_type": "code",
   "execution_count": 4,
   "id": "128cd409",
   "metadata": {},
   "outputs": [
    {
     "data": {
      "text/plain": [
       "array([ 5.05726956e+00,  3.16098321e-01,  1.29020812e-03, -3.64927102e-02,\n",
       "       -6.02477389e-04, -1.28674884e+00,  8.87513306e+00, -4.03412217e+00,\n",
       "       -1.99091196e+00, -8.62853947e-01,  1.44080134e+00, -1.59879496e+00,\n",
       "        3.31331788e-02,  1.19480020e-01,  2.68263004e-03, -2.36099168e+01,\n",
       "        8.09098896e-01,  7.60795205e+00, -2.04619462e+01, -8.87360302e+00,\n",
       "        3.05882766e+01, -3.22819324e-01, -2.47891654e-02,  2.39256793e-03,\n",
       "        1.90917456e-03, -1.05615197e+00, -4.20315477e-02, -7.15161592e-01,\n",
       "       -2.05205843e+00, -7.73505030e-02, -1.09838061e+01])"
      ]
     },
     "execution_count": 4,
     "metadata": {},
     "output_type": "execute_result"
    }
   ],
   "source": [
    "# beta = (X^tX)^-1X^tY\n",
    "def beta(X, y):\n",
    "    normal_eqn = np.linalg.inv(X.T.dot(X)).dot(X.T).dot(y)\n",
    "    return normal_eqn\n",
    "design_mat = np.c_[np.ones((426,1)), X_train]\n",
    "beta_hat = beta(design_mat, y_train)\n",
    "beta_hat"
   ]
  },
  {
   "cell_type": "code",
   "execution_count": 5,
   "id": "2322b2e4",
   "metadata": {},
   "outputs": [],
   "source": [
    "X_test_mat = np.c_[np.ones((143,1)), X_test]\n",
    "y_hat = X_test_mat.dot(beta_hat)"
   ]
  },
  {
   "cell_type": "markdown",
   "id": "42f7ed0b",
   "metadata": {},
   "source": [
    "## Model performance \n",
    "here we calculate the $r^2$ value to see the model performance"
   ]
  },
  {
   "cell_type": "code",
   "execution_count": 6,
   "id": "da5fa2c0",
   "metadata": {},
   "outputs": [],
   "source": [
    "r_squared = 1-sum((y_test.values-y_hat)**2)/sum((y_test.values-statistics.mean(y_test.values))**2)"
   ]
  },
  {
   "cell_type": "code",
   "execution_count": 7,
   "id": "3f6b8390",
   "metadata": {},
   "outputs": [
    {
     "data": {
      "text/plain": [
       "0.8007752774401433"
      ]
     },
     "execution_count": 7,
     "metadata": {},
     "output_type": "execute_result"
    }
   ],
   "source": [
    "r_squared"
   ]
  },
  {
   "cell_type": "markdown",
   "id": "c81fa776",
   "metadata": {},
   "source": [
    "## Accuracy Score\n",
    "Since the result is binary, we have to convert the y-hat value to -1 to 1, so we set y_hat to -1 if it is negative, and 1 if it is positive."
   ]
  },
  {
   "cell_type": "code",
   "execution_count": 8,
   "id": "41a19143",
   "metadata": {},
   "outputs": [
    {
     "name": "stdout",
     "output_type": "stream",
     "text": [
      "Test accuracy score = 0.972027972027972\n"
     ]
    }
   ],
   "source": [
    "y_pred = np.where(y_hat < 0, -1, 1)\n",
    "print(f'Test accuracy score = {accuracy_score(y_test, y_pred)}')\n"
   ]
  },
  {
   "cell_type": "markdown",
   "id": "c539f37c",
   "metadata": {},
   "source": [
    "## Conclusion\n",
    "We calculated the r^2 value to see the model perfomance, 0.801 shows that the linear model can provide significant informations on diagonosis of breast cancer. After we convert the y_hat to binary output, we see that the accuracy score is 0.97 which is strong model. Later we will compare this result to the logistic regression model."
   ]
  },
  {
   "cell_type": "code",
   "execution_count": null,
   "id": "a163216a",
   "metadata": {},
   "outputs": [],
   "source": []
  }
 ],
 "metadata": {
  "kernelspec": {
   "display_name": "Python 3 (ipykernel)",
   "language": "python",
   "name": "python3"
  },
  "language_info": {
   "codemirror_mode": {
    "name": "ipython",
    "version": 3
   },
   "file_extension": ".py",
   "mimetype": "text/x-python",
   "name": "python",
   "nbconvert_exporter": "python",
   "pygments_lexer": "ipython3",
   "version": "3.9.12"
  }
 },
 "nbformat": 4,
 "nbformat_minor": 5
}
