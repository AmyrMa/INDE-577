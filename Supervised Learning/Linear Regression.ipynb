{
 "cells": [
  {
   "cell_type": "markdown",
   "id": "bd835f16",
   "metadata": {},
   "source": [
    "## Linear Regression\n",
    "For linear regression model, we still use breast cancer diagonosis dataset, even though the data set has only two output, the linear regression should still be a good model to predict the outcomes of the breast cancer."
   ]
  },
  {
   "cell_type": "code",
   "execution_count": 1,
   "id": "d94e5cc5",
   "metadata": {},
   "outputs": [],
   "source": [
    "# Import all the necessary libraries\n",
    "import numpy as np \n",
    "import pandas as pd \n",
    "import random\n",
    "\n",
    "import seaborn as sns\n",
    "import matplotlib.pyplot as plt\n",
    "from sklearn.model_selection import train_test_split\n",
    "import statistics\n",
    "# Set the Seaborn theme\n",
    "sns.set_theme()"
   ]
  },
  {
   "cell_type": "code",
   "execution_count": 1,
   "id": "8dab747e",
   "metadata": {},
   "outputs": [
    {
     "ename": "NameError",
     "evalue": "name 'pd' is not defined",
     "output_type": "error",
     "traceback": [
      "\u001b[1;31m---------------------------------------------------------------------------\u001b[0m",
      "\u001b[1;31mNameError\u001b[0m                                 Traceback (most recent call last)",
      "Input \u001b[1;32mIn [1]\u001b[0m, in \u001b[0;36m<cell line: 2>\u001b[1;34m()\u001b[0m\n\u001b[0;32m      1\u001b[0m \u001b[38;5;66;03m#importing the dataset as a dataframe\u001b[39;00m\n\u001b[1;32m----> 2\u001b[0m df \u001b[38;5;241m=\u001b[39m \u001b[43mpd\u001b[49m\u001b[38;5;241m.\u001b[39mread_csv(\u001b[38;5;124m\"\u001b[39m\u001b[38;5;124mhttps://raw.githubusercontent.com/AmyrMa/INDE-577/main/data/data.csv\u001b[39m\u001b[38;5;124m\"\u001b[39m)\n\u001b[0;32m      3\u001b[0m df \u001b[38;5;241m=\u001b[39m df\u001b[38;5;241m.\u001b[39mdrop([\u001b[38;5;124m'\u001b[39m\u001b[38;5;124mid\u001b[39m\u001b[38;5;124m'\u001b[39m,\u001b[38;5;124m'\u001b[39m\u001b[38;5;124mUnnamed: 32\u001b[39m\u001b[38;5;124m'\u001b[39m], axis \u001b[38;5;241m=\u001b[39m \u001b[38;5;241m1\u001b[39m)\n\u001b[0;32m      4\u001b[0m df[\u001b[38;5;124m'\u001b[39m\u001b[38;5;124mdiagnosis\u001b[39m\u001b[38;5;124m'\u001b[39m] \u001b[38;5;241m=\u001b[39m np\u001b[38;5;241m.\u001b[39mwhere(df\u001b[38;5;241m.\u001b[39mdiagnosis\u001b[38;5;241m.\u001b[39mvalues \u001b[38;5;241m==\u001b[39m \u001b[38;5;124m'\u001b[39m\u001b[38;5;124mM\u001b[39m\u001b[38;5;124m'\u001b[39m, \u001b[38;5;241m1\u001b[39m, \u001b[38;5;241m0\u001b[39m)\n",
      "\u001b[1;31mNameError\u001b[0m: name 'pd' is not defined"
     ]
    }
   ],
   "source": [
    "#importing the dataset as a dataframe\n",
    "df = pd.read_csv(\"https://raw.githubusercontent.com/AmyrMa/INDE-577/main/data/data.csv\")\n",
    "df = df.drop(['id','Unnamed: 32'], axis = 1)\n",
    "df['diagnosis'] = np.where(df.diagnosis.values == 'M', -1, 1)\n",
    "y = df['diagnosis']\n",
    "X = df.drop(['diagnosis'], axis=1).values"
   ]
  },
  {
   "cell_type": "code",
   "execution_count": 3,
   "id": "8dec600f",
   "metadata": {},
   "outputs": [],
   "source": [
    "X_train, X_test, y_train, y_test = train_test_split(X, y, test_size = 0.25, random_state = 40)"
   ]
  },
  {
   "cell_type": "code",
   "execution_count": 4,
   "id": "128cd409",
   "metadata": {},
   "outputs": [
    {
     "data": {
      "text/plain": [
       "array([ 5.05726956e+00,  3.16098321e-01,  1.29020812e-03, -3.64927102e-02,\n",
       "       -6.02477389e-04, -1.28674884e+00,  8.87513306e+00, -4.03412217e+00,\n",
       "       -1.99091196e+00, -8.62853947e-01,  1.44080134e+00, -1.59879496e+00,\n",
       "        3.31331788e-02,  1.19480020e-01,  2.68263004e-03, -2.36099168e+01,\n",
       "        8.09098896e-01,  7.60795205e+00, -2.04619462e+01, -8.87360302e+00,\n",
       "        3.05882766e+01, -3.22819324e-01, -2.47891654e-02,  2.39256793e-03,\n",
       "        1.90917456e-03, -1.05615197e+00, -4.20315477e-02, -7.15161592e-01,\n",
       "       -2.05205843e+00, -7.73505030e-02, -1.09838061e+01])"
      ]
     },
     "execution_count": 4,
     "metadata": {},
     "output_type": "execute_result"
    }
   ],
   "source": [
    "# beta = (X^tX)^-1X^tY\n",
    "def beta(X, y):\n",
    "    normal_eqn = np.linalg.inv(X.T.dot(X)).dot(X.T).dot(y)\n",
    "    return normal_eqn\n",
    "design_mat = np.c_[np.ones((426,1)), X_train]\n",
    "beta_hat = beta(design_mat, y_train)\n",
    "beta_hat"
   ]
  },
  {
   "cell_type": "code",
   "execution_count": 5,
   "id": "2322b2e4",
   "metadata": {},
   "outputs": [],
   "source": [
    "X_test_mat = np.c_[np.ones((143,1)), X_test]\n",
    "y_hat = X_test_mat.dot(beta_hat)"
   ]
  },
  {
   "cell_type": "code",
   "execution_count": 7,
   "id": "da5fa2c0",
   "metadata": {},
   "outputs": [],
   "source": [
    "r_squared = 1-sum((y_test.values-y_hat)**2)/sum((y_test.values-statistics.mean(y_test.values))**2)"
   ]
  },
  {
   "cell_type": "code",
   "execution_count": 8,
   "id": "3f6b8390",
   "metadata": {},
   "outputs": [
    {
     "data": {
      "text/plain": [
       "0.8007752774401433"
      ]
     },
     "execution_count": 8,
     "metadata": {},
     "output_type": "execute_result"
    }
   ],
   "source": [
    "r_squared"
   ]
  },
  {
   "cell_type": "markdown",
   "id": "c539f37c",
   "metadata": {},
   "source": [
    "## Conclusion\n",
    "We calculated the r^2 value to see the model perfomance, 0.801 shows that the linear model can provide significant informations on diagonosis of breast cancer."
   ]
  }
 ],
 "metadata": {
  "kernelspec": {
   "display_name": "Python 3 (ipykernel)",
   "language": "python",
   "name": "python3"
  },
  "language_info": {
   "codemirror_mode": {
    "name": "ipython",
    "version": 3
   },
   "file_extension": ".py",
   "mimetype": "text/x-python",
   "name": "python",
   "nbconvert_exporter": "python",
   "pygments_lexer": "ipython3",
   "version": "3.9.12"
  }
 },
 "nbformat": 4,
 "nbformat_minor": 5
}
