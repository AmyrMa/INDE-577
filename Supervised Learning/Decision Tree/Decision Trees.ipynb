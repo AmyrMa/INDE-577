{
 "cells": [
  {
   "cell_type": "markdown",
   "id": "d7163570",
   "metadata": {},
   "source": [
    "## Decision Trees"
   ]
  },
  {
   "cell_type": "markdown",
   "id": "50505c51",
   "metadata": {},
   "source": [
    "We going to build the decision tree model on our breast cancer diagnosis data and evaluate its performance."
   ]
  },
  {
   "cell_type": "code",
   "execution_count": 1,
   "id": "7f085b6f",
   "metadata": {},
   "outputs": [],
   "source": [
    "import matplotlib.pyplot as plt\n",
    "import pandas as pd\n",
    "import numpy as np\n",
    "import seaborn as sns \n",
    "from sklearn.model_selection import train_test_split\n",
    "from sklearn.tree import DecisionTreeClassifier\n",
    "from sklearn.tree import plot_tree\n",
    "from sklearn.tree import export_text\n",
    "from mlxtend.plotting import plot_decision_regions\n",
    "from sklearn import metrics\n",
    "from sklearn.metrics import classification_report\n",
    "from sklearn.preprocessing import StandardScaler\n",
    "from sklearn.pipeline import Pipeline\n",
    "from sklearn.model_selection import GridSearchCV\n",
    "from sklearn import decomposition\n",
    "from sklearn.metrics import roc_curve, roc_auc_score"
   ]
  },
  {
   "cell_type": "code",
   "execution_count": 2,
   "id": "d0d4ae80",
   "metadata": {},
   "outputs": [
    {
     "data": {
      "text/plain": [
       "Index(['id', 'diagnosis', 'radius_mean', 'texture_mean', 'perimeter_mean',\n",
       "       'area_mean', 'smoothness_mean', 'compactness_mean', 'concavity_mean',\n",
       "       'concave points_mean', 'symmetry_mean', 'fractal_dimension_mean',\n",
       "       'radius_se', 'texture_se', 'perimeter_se', 'area_se', 'smoothness_se',\n",
       "       'compactness_se', 'concavity_se', 'concave points_se', 'symmetry_se',\n",
       "       'fractal_dimension_se', 'radius_worst', 'texture_worst',\n",
       "       'perimeter_worst', 'area_worst', 'smoothness_worst',\n",
       "       'compactness_worst', 'concavity_worst', 'concave points_worst',\n",
       "       'symmetry_worst', 'fractal_dimension_worst', 'Unnamed: 32'],\n",
       "      dtype='object')"
      ]
     },
     "execution_count": 2,
     "metadata": {},
     "output_type": "execute_result"
    }
   ],
   "source": [
    "# import the breast cancer diagnosis data \n",
    "df = pd.read_csv('https://raw.githubusercontent.com/AmyrMa/INDE-577/main/data/data.csv')\n",
    "df.head()\n",
    "df.columns"
   ]
  },
  {
   "cell_type": "code",
   "execution_count": 3,
   "id": "ff269c99",
   "metadata": {},
   "outputs": [],
   "source": [
    "df = df.drop(['id','Unnamed: 32'], axis=1)\n",
    "y = df['diagnosis']\n",
    "X = df.drop(['diagnosis'], axis = 1)\n",
    "sc = StandardScaler()\n",
    "X = sc.fit_transform(X)"
   ]
  },
  {
   "cell_type": "code",
   "execution_count": 4,
   "id": "9747563e",
   "metadata": {},
   "outputs": [],
   "source": [
    "# Create training and test sets\n",
    "X_train, X_test, y_train, y_test = train_test_split(\n",
    "    X, y, test_size = 0.25, random_state = 40)"
   ]
  },
  {
   "cell_type": "code",
   "execution_count": 5,
   "id": "ba4f3a6c",
   "metadata": {},
   "outputs": [],
   "source": [
    "pca = decomposition.PCA()\n",
    "dec_tree = DecisionTreeClassifier()\n",
    "pipe = Pipeline(steps=[('pca', pca), \n",
    "                       ('dec_tree', dec_tree)])\n",
    "n_components = list(range(1,X.shape[1]+1,1))\n",
    "criterion = ['gini', 'entropy']\n",
    "max_depth = [2,4,6,8,10,12]\n",
    "parameters = dict(pca__n_components=n_components,\n",
    "                  dec_tree__criterion=criterion,\n",
    "                  dec_tree__max_depth=max_depth)"
   ]
  },
  {
   "cell_type": "markdown",
   "id": "bff470d4",
   "metadata": {},
   "source": [
    "# Use Grid Search to find the best parameters"
   ]
  },
  {
   "cell_type": "markdown",
   "id": "2aaa39e2",
   "metadata": {},
   "source": [
    "Instead of trying out all the possible parameters, I used grid search to find the best possible parameters including criterion and max_depth."
   ]
  },
  {
   "cell_type": "code",
   "execution_count": 6,
   "id": "993a6916",
   "metadata": {},
   "outputs": [
    {
     "name": "stdout",
     "output_type": "stream",
     "text": [
      "Best Criterion: gini\n",
      "Best max_depth: 4\n",
      "Best Number Of Components: 2\n",
      "\n",
      "DecisionTreeClassifier(max_depth=4)\n"
     ]
    }
   ],
   "source": [
    "clf_GS = GridSearchCV(pipe, parameters)\n",
    "clf_GS.fit(X_train, y_train)\n",
    "# Now we are using print statements to print the results. It will give the values of hyperparameters as a result.\n",
    "\n",
    "print('Best Criterion:', clf_GS.best_estimator_.get_params()['dec_tree__criterion'])\n",
    "print('Best max_depth:', clf_GS.best_estimator_.get_params()['dec_tree__max_depth'])\n",
    "print('Best Number Of Components:', clf_GS.best_estimator_.get_params()['pca__n_components'])\n",
    "print(); print(clf_GS.best_estimator_.get_params()['dec_tree'])"
   ]
  },
  {
   "cell_type": "code",
   "execution_count": 8,
   "id": "dc44c7fa",
   "metadata": {},
   "outputs": [],
   "source": [
    "# build the tree\n",
    "optimal = DecisionTreeClassifier(max_depth=8, random_state=1,criterion ='entropy')\n",
    "# fit the model \n",
    "optimal.fit(X_train,y_train)\n",
    "y_pred = optimal.predict(X_test)"
   ]
  },
  {
   "cell_type": "code",
   "execution_count": 9,
   "id": "2437a29f",
   "metadata": {},
   "outputs": [
    {
     "name": "stdout",
     "output_type": "stream",
     "text": [
      "\n",
      "Classification Report\n",
      "              precision    recall  f1-score   support\n",
      "\n",
      "           B       0.98      0.93      0.95        98\n",
      "           M       0.86      0.96      0.91        45\n",
      "\n",
      "    accuracy                           0.94       143\n",
      "   macro avg       0.92      0.94      0.93       143\n",
      "weighted avg       0.94      0.94      0.94       143\n",
      "\n"
     ]
    }
   ],
   "source": [
    "classify_dectree = classification_report(y_test, y_pred)\n",
    "print(\"\\nClassification Report\")\n",
    "print(classify_dectree)"
   ]
  },
  {
   "cell_type": "code",
   "execution_count": 10,
   "id": "6ef9243e",
   "metadata": {},
   "outputs": [
    {
     "data": {
      "image/png": "[encoded data removed]",
      "text/plain": [
       "<Figure size 432x288 with 1 Axes>"
      ]
     },
     "metadata": {
      "needs_background": "light"
     },
     "output_type": "display_data"
    }
   ],
   "source": [
    "#Plot the ROC curve for the Entropy Decision Tree\n",
    "encode_y_test = np.where(y_test == 'M', 1, 0)\n",
    "encode_y_pred = np.where(y_pred == 'M', 1, 0)\n",
    "roc_auc = roc_auc_score(encode_y_test,encode_y_pred)\n",
    "fpr, tpr, thresholds = roc_curve(encode_y_test,optimal.predict_proba(X_test)[:,1])\n",
    "\n",
    "plt.figure()\n",
    "plt.plot(fpr, tpr, label='Decision Tree (Area = %0.2f)' % roc_auc)\n",
    "plt.plot([0,1],[0,1],'r--')\n",
    "plt.xlim([0.0,1.0])\n",
    "plt.ylim([0.0,1.05])\n",
    "plt.xlabel('False Positive Rate')\n",
    "plt.ylabel('True Positive Rate')\n",
    "plt.title('Receiver Operating Characteristics: Entropy Decision Tree with PCA')\n",
    "plt.legend(loc=\"lower right\")\n",
    "plt.show()"
   ]
  },
  {
   "cell_type": "code",
   "execution_count": 11,
   "id": "636c1324",
   "metadata": {},
   "outputs": [
    {
     "name": "stdout",
     "output_type": "stream",
     "text": [
      "Gini Decision Tree with PCA\n",
      "Nodes: 33\n",
      "Depth: 6\n"
     ]
    },
    {
     "data": {
      "image/png": "[encoded data removed]",
      "text/plain": [
       "<Figure size 432x288 with 1 Axes>"
      ]
     },
     "metadata": {
      "needs_background": "light"
     },
     "output_type": "display_data"
    }
   ],
   "source": [
    "n_nodes = optimal.tree_.node_count\n",
    "n_nodes\n",
    "\n",
    "depth = optimal.tree_.max_depth\n",
    "depth\n",
    "\n",
    "print('Gini Decision Tree with PCA')\n",
    "print('Nodes:',n_nodes)\n",
    "print('Depth:',depth)\n",
    "\n",
    "plot_tree(optimal,filled=True,feature_names=X_test);"
   ]
  },
  {
   "cell_type": "markdown",
   "id": "a24e774b",
   "metadata": {},
   "source": [
    "## Conclusion\n",
    "We see that the accuracy of prediction is at 0.94, therefore decision tree is a strong model for this data."
   ]
  },
  {
   "cell_type": "code",
   "execution_count": null,
   "id": "4eb26ad7",
   "metadata": {},
   "outputs": [],
   "source": []
  }
 ],
 "metadata": {
  "kernelspec": {
   "display_name": "Python 3 (ipykernel)",
   "language": "python",
   "name": "python3"
  },
  "language_info": {
   "codemirror_mode": {
    "name": "ipython",
    "version": 3
   },
   "file_extension": ".py",
   "mimetype": "text/x-python",
   "name": "python",
   "nbconvert_exporter": "python",
   "pygments_lexer": "ipython3",
   "version": "3.9.12"
  }
 },
 "nbformat": 4,
 "nbformat_minor": 5
}
